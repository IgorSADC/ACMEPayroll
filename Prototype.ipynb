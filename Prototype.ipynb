{
 "cells": [
  {
   "cell_type": "code",
   "execution_count": 42,
   "id": "b34c2503",
   "metadata": {},
   "outputs": [],
   "source": [
    "EXAMPLE_INPUT = 'RENE=MO10:00-12:00,TU10:00-12:00,TH01:00-03:00,SA14:00-18:00,SU20:00-21:00'"
   ]
  },
  {
   "cell_type": "code",
   "execution_count": 21,
   "id": "fa8f3840",
   "metadata": {},
   "outputs": [],
   "source": [
    "EXAMPLE_INPUT = 'ASTRID=MO10:00-12:00,TH12:00-14:00,SU20:00-21:00'"
   ]
  },
  {
   "cell_type": "code",
   "execution_count": 43,
   "id": "be8229d6",
   "metadata": {},
   "outputs": [],
   "source": [
    "import re\n",
    "from datetime import time, datetime, date"
   ]
  },
  {
   "cell_type": "code",
   "execution_count": 44,
   "id": "bb6b5d8a",
   "metadata": {
    "scrolled": false
   },
   "outputs": [
    {
     "data": {
      "text/plain": [
       "[('MO', '10:00', '12:00'),\n",
       " ('TU', '10:00', '12:00'),\n",
       " ('TH', '01:00', '03:00'),\n",
       " ('SA', '14:00', '18:00'),\n",
       " ('SU', '20:00', '21:00')]"
      ]
     },
     "execution_count": 44,
     "metadata": {},
     "output_type": "execute_result"
    }
   ],
   "source": [
    "re.findall(\"(\\w{2})(\\d{2}:\\d{2})-(\\d{2}:\\d{2})\", EXAMPLE_INPUT)"
   ]
  },
  {
   "cell_type": "code",
   "execution_count": 51,
   "id": "25c46f08",
   "metadata": {},
   "outputs": [],
   "source": [
    "from datetime import time\n",
    "from typing import Tuple\n",
    "Hour = Tuple[int, int]\n",
    "class Interval:\n",
    "    def __init__(self, inital_time : Hour, final_time : Hour) -> None:\n",
    "        if(final_time[0] == 0 and final_time[1] ==0):\n",
    "            final_time[0] = 24\n",
    "        assert(final_time > inital_time)\n",
    "        self.initial_time = inital_time\n",
    "        self.final_time = final_time\n",
    "        \n",
    "    def eliminate_minutes_from_hour(self, hour : Hour) -> float:\n",
    "        return hour[0] + hour[1]/60\n",
    "\n",
    "    def in_interval(self, start_time: Hour, end_time : Hour):\n",
    "        \n",
    "        \n",
    "        return (\n",
    "            (self.eliminate_minutes_from_hour(start_time) - self.eliminate_minutes_from_hour(self.initial_time)) >=0) and (\n",
    "            self.eliminate_minutes_from_hour(end_time) - self.eliminate_minutes_from_hour(self.final_time) <=0\n",
    "        )\n",
    "\n",
    "\n",
    "\n",
    "\n"
   ]
  },
  {
   "cell_type": "code",
   "execution_count": 210,
   "id": "2ad3f256",
   "metadata": {},
   "outputs": [],
   "source": [
    "## Default intervals\n",
    "first_interval = Interval((0, 1),  (9, 0))\n",
    "second_interval = Interval((9, 1), (18, 0))\n",
    "third_interval = Interval((18, 1), (24, 0))\n",
    "\n",
    "intervals = [first_interval, second_interval, third_interval]"
   ]
  },
  {
   "cell_type": "code",
   "execution_count": 211,
   "id": "c88c7615",
   "metadata": {},
   "outputs": [],
   "source": [
    "from enum import Enum\n",
    "\n",
    "class DefaultTagEnum(Enum):\n",
    "    WeekDay = 0\n",
    "    Weekend = 1"
   ]
  },
  {
   "cell_type": "code",
   "execution_count": 212,
   "id": "f3c6e68a",
   "metadata": {},
   "outputs": [],
   "source": [
    "payment_configuration= {\n",
    "    DefaultTagEnum.WeekDay : {\n",
    "        first_interval : 25,\n",
    "        second_interval : 15,\n",
    "        third_interval : 20\n",
    "    }, \n",
    "    \n",
    "    DefaultTagEnum.Weekend: {\n",
    "        first_interval : 30,\n",
    "        second_interval : 20,\n",
    "        third_interval : 25\n",
    "    }\n",
    "}"
   ]
  },
  {
   "cell_type": "code",
   "execution_count": 213,
   "id": "8877e55f",
   "metadata": {},
   "outputs": [],
   "source": [
    "RE_PATTERN =\"(\\w{2})(\\d{2}:\\d{2})-(\\d{2}:\\d{2})\"\n",
    "def parse_times(current_input : str) -> Tuple[str, Hour, Hour]:\n",
    "    for data in re.findall(RE_PATTERN, EXAMPLE_INPUT):\n",
    "        day, start, end = data\n",
    "        \n",
    "        start_hour, start_minute = start.split(':')\n",
    "        start_hour, start_minute = int(start_hour), int(start_minute)\n",
    "    \n",
    "        end_hour, end_minute = end.split(':')\n",
    "        end_hour, end_minute = int(end_hour), int(end_minute)\n",
    "        \n",
    "        yield (day, (start_hour, start_minute), (end_hour, end_minute))\n",
    "        \n",
    "    "
   ]
  },
  {
   "cell_type": "code",
   "execution_count": 214,
   "id": "60a07e21",
   "metadata": {},
   "outputs": [
    {
     "data": {
      "text/plain": [
       "215.0"
      ]
     },
     "execution_count": 214,
     "metadata": {},
     "output_type": "execute_result"
    }
   ],
   "source": [
    "def get_total_earned_on_day(input_str: str):\n",
    "    total_earned = 0\n",
    "    for day, start_time, end_time in parse_times(input_str):\n",
    "        period_worked_hours = end_time[0] - start_time[0] + (end_time[1] - start_time[1])/60\n",
    "\n",
    "        matched_intervals = [interval for interval in intervals if interval.in_interval(start_time, end_time)]\n",
    "\n",
    "        assert(len(matched_intervals) == 1)\n",
    "\n",
    "        matched_interval = matched_intervals[0]\n",
    "\n",
    "        if(re.match('MO|TU|WE|TH|FR', day)):\n",
    "            total_earned += payment_configuration[DefaultTagEnum.WeekDay][matched_interval] * period_worked_hours\n",
    "\n",
    "        elif (re.match('SA|SU', day)):\n",
    "            total_earned += payment_configuration[DefaultTagEnum.Weekend][matched_interval] * period_worked_hours\n",
    "\n",
    "        else:\n",
    "            raise ValueError(\"Day does not exist\")\n",
    "            \n",
    "    return total_earned\n",
    "    \n",
    "get_total_earned_on_day(EXAMPLE_INPUT)"
   ]
  },
  {
   "cell_type": "markdown",
   "id": "31ec77ce",
   "metadata": {},
   "source": [
    "total_earned = 0\n",
    "for data in re.findall(\"(\\w{2})(\\d{2}:\\d{2})-(\\d{2}:\\d{2})\", EXAMPLE_INPUT):\n",
    "    day, start, end = data\n",
    "    start_hour, start_minute = start.split(':')\n",
    "    start_hour, start_minute = int(start_hour), int(start_minute)\n",
    "    \n",
    "    \n",
    "    end_hour, end_minute = end.split(':')\n",
    "    end_hour, end_minute = int(end_hour), int(end_minute)\n",
    "    if(end_hour == 0):\n",
    "        end_hour = 24\n",
    "    \n",
    "    period_worked_hours = end_hour - start_hour\n",
    "    \n",
    "    \n",
    "    matched_interval = [i for i in  intervals if i.in_interval( \n",
    "            (start_hour, start_minute), (end_hour, end_minute)\n",
    "    )]\n",
    "    \n",
    "    assert(len(matched_interval) == 1)\n",
    "    \n",
    "    matched_interval = matched_interval[0]\n",
    "    \n",
    "    \n",
    "    if(re.match('MO|TU|WE|TH|FR', day)):\n",
    "        total_earned += payment_configuration[DefaultTagEnum.WeekDay][matched_interval] * period_worked_hours\n",
    "        \n",
    "    elif (re.match('SA|SU', day)):\n",
    "        total_earned += payment_configuration[DefaultTagEnum.Weekend][matched_interval] * period_worked_hours\n",
    "        \n",
    "    else:\n",
    "        print(\"_______ERRROR______\")\n",
    "    \n",
    "    print(data)\n",
    "    print(third_interval.in_interval((start_hour, start_minute), (end_hour, end_minute)))"
   ]
  },
  {
   "cell_type": "markdown",
   "id": "b842422b",
   "metadata": {
    "scrolled": false
   },
   "source": [
    "total_earned"
   ]
  },
  {
   "cell_type": "markdown",
   "id": "97f57681",
   "metadata": {},
   "source": [
    "time(0, 0) == time(0,0)"
   ]
  },
  {
   "cell_type": "code",
   "execution_count": 261,
   "id": "69602fb9",
   "metadata": {},
   "outputs": [],
   "source": [
    "from isort import Config\n",
    "from DataStructures.DefaultTagEnum import DefaultTagEnum\n",
    "from DataStructures.Interval import Interval\n",
    "from random import random\n",
    "\n",
    "class ConfigManager:\n",
    "    default_tag_price : dict[DefaultTagEnum, dict[Interval, int]] =None\n",
    "        # DefaultTagEnum.WeekDay : [25,15,20],\n",
    "        # DefaultTagEnum.Weekend : [30, 20, 25]\n",
    "    # }\n",
    "\n",
    "    intervals = []\n",
    "\n",
    "\n",
    "    custom_tag_price : dict[str, dict[Interval, int]] = {}\n",
    "\n",
    "    @staticmethod\n",
    "    def register_tag_price(tag : str,prices_by_interval: dict[Interval, int]):\n",
    "        ConfigManager.custom_tag_price[tag] = prices_by_interval\n",
    "\n",
    "    @staticmethod\n",
    "    def register_interval(interval : Interval):\n",
    "        if(ConfigManager.default_tag_price is not None): raise ValueError(\"You can't register any more intervals as the configuration already began\")\n",
    "        if(interval in ConfigManager.intervals): raise ValueError(\"Interval is already registered\")\n",
    "\n",
    "        overrided_intervals = [i for i in ConfigManager.intervals if i.in_interval(interval.initial_time, interval.initial_time) or i.in_interval(interval.final_time, interval.final_time)]\n",
    "        \n",
    "        if(len(overrided_intervals) > 0):\n",
    "            print(overrided_intervals)\n",
    "            raise ValueError(\"Interval is overriding one already registered\")\n",
    "        ConfigManager.intervals.append(interval)\n",
    "        \n",
    "\n",
    "    @staticmethod\n",
    "    def register_configuration(config : dict[DefaultTagEnum, dict[Interval, int]]):\n",
    "        for tag in config:\n",
    "            configured_intervals = [*config[tag].keys()]\n",
    "            \n",
    "        assert(set(configured_intervals) == set(ConfigManager.intervals))\n",
    "                \n",
    "\n",
    "\n"
   ]
  },
  {
   "cell_type": "code",
   "execution_count": 262,
   "id": "fa9bd46d",
   "metadata": {},
   "outputs": [
    {
     "name": "stdout",
     "output_type": "stream",
     "text": [
      "[]\n"
     ]
    }
   ],
   "source": [
    "ConfigManager.intervals = []\n",
    "print(ConfigManager.intervals)"
   ]
  },
  {
   "cell_type": "code",
   "execution_count": 263,
   "id": "fd78550a",
   "metadata": {
    "scrolled": true
   },
   "outputs": [],
   "source": [
    "ConfigManager.register_interval(first_interval)"
   ]
  },
  {
   "cell_type": "code",
   "execution_count": 264,
   "id": "e1769775",
   "metadata": {},
   "outputs": [],
   "source": [
    "ConfigManager.register_interval(second_interval)"
   ]
  },
  {
   "cell_type": "code",
   "execution_count": 265,
   "id": "d8979247",
   "metadata": {},
   "outputs": [],
   "source": [
    "ConfigManager.register_interval(third_interval)"
   ]
  },
  {
   "cell_type": "code",
   "execution_count": 266,
   "id": "4da9b3f7",
   "metadata": {},
   "outputs": [
    {
     "data": {
      "text/plain": [
       "[<DataStructures.Interval.Interval at 0x7f1bb0700370>,\n",
       " <DataStructures.Interval.Interval at 0x7f1bb07004f0>,\n",
       " <DataStructures.Interval.Interval at 0x7f1bb0700d90>]"
      ]
     },
     "execution_count": 266,
     "metadata": {},
     "output_type": "execute_result"
    }
   ],
   "source": [
    "ConfigManager.intervals"
   ]
  },
  {
   "cell_type": "code",
   "execution_count": 268,
   "id": "4aa82adb",
   "metadata": {},
   "outputs": [],
   "source": [
    "ConfigManager.register_configuration(\n",
    "    {DefaultTagEnum.WeekDay : {\n",
    "        first_interval:2,\n",
    "        second_interval: 3,\n",
    "        third_interval: 4\n",
    "    }\n",
    "     })"
   ]
  },
  {
   "cell_type": "code",
   "execution_count": null,
   "id": "2c726733",
   "metadata": {},
   "outputs": [],
   "source": []
  },
  {
   "cell_type": "code",
   "execution_count": null,
   "id": "8d077d50",
   "metadata": {},
   "outputs": [],
   "source": []
  },
  {
   "cell_type": "code",
   "execution_count": null,
   "id": "9e16bef3",
   "metadata": {},
   "outputs": [],
   "source": []
  }
 ],
 "metadata": {
  "kernelspec": {
   "display_name": "Python 3 (ipykernel)",
   "language": "python",
   "name": "python3"
  },
  "language_info": {
   "codemirror_mode": {
    "name": "ipython",
    "version": 3
   },
   "file_extension": ".py",
   "mimetype": "text/x-python",
   "name": "python",
   "nbconvert_exporter": "python",
   "pygments_lexer": "ipython3",
   "version": "3.9.7"
  }
 },
 "nbformat": 4,
 "nbformat_minor": 5
}
