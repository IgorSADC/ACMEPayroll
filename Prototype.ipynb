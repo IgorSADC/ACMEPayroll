{
 "cells": [
  {
   "cell_type": "code",
   "execution_count": 1,
   "id": "b34c2503",
   "metadata": {},
   "outputs": [],
   "source": [
    "EXAMPLE_INPUT = 'RENE=MO10:00-12:00,TU10:00-12:00,TH01:00-03:00,SA14:00-18:00,SU20:00-21:00'"
   ]
  },
  {
   "cell_type": "code",
   "execution_count": 2,
   "id": "fa8f3840",
   "metadata": {},
   "outputs": [],
   "source": [
    "EXAMPLE_INPUT = 'ASTRID=MO10:00-12:00,TH12:00-14:00,SU20:00-21:00'"
   ]
  },
  {
   "cell_type": "code",
   "execution_count": 3,
   "id": "be8229d6",
   "metadata": {},
   "outputs": [],
   "source": [
    "import re\n",
    "from datetime import time, datetime, date"
   ]
  },
  {
   "cell_type": "code",
   "execution_count": 4,
   "id": "bb6b5d8a",
   "metadata": {
    "scrolled": false
   },
   "outputs": [
    {
     "data": {
      "text/plain": [
       "[('MO', '10:00', '12:00'), ('TH', '12:00', '14:00'), ('SU', '20:00', '21:00')]"
      ]
     },
     "execution_count": 4,
     "metadata": {},
     "output_type": "execute_result"
    }
   ],
   "source": [
    "re.findall(\"(\\w{2})(\\d{2}:\\d{2})-(\\d{2}:\\d{2})\", EXAMPLE_INPUT)"
   ]
  },
  {
   "cell_type": "code",
   "execution_count": 5,
   "id": "25c46f08",
   "metadata": {},
   "outputs": [],
   "source": [
    "from datetime import time\n",
    "from typing import Tuple\n",
    "Hour = Tuple[int, int]\n",
    "class Interval:\n",
    "    def __init__(self, inital_time : Hour, final_time : Hour) -> None:\n",
    "        if(final_time[0] == 0 and final_time[1] ==0):\n",
    "            final_time[0] = 24\n",
    "        assert(final_time > inital_time)\n",
    "        self.initial_time = inital_time\n",
    "        self.final_time = final_time\n",
    "        \n",
    "    def eliminate_minutes_from_hour(self, hour : Hour) -> float:\n",
    "        return hour[0] + hour[1]/60\n",
    "\n",
    "    def in_interval(self, start_time: Hour, end_time : Hour):\n",
    "        \n",
    "        \n",
    "        return (\n",
    "            (self.eliminate_minutes_from_hour(start_time) - self.eliminate_minutes_from_hour(self.initial_time)) >=0) and (\n",
    "            self.eliminate_minutes_from_hour(end_time) - self.eliminate_minutes_from_hour(self.final_time) <=0\n",
    "        )\n",
    "\n",
    "\n",
    "\n",
    "\n"
   ]
  },
  {
   "cell_type": "code",
   "execution_count": 6,
   "id": "2ad3f256",
   "metadata": {},
   "outputs": [],
   "source": [
    "## Default intervals\n",
    "first_interval = Interval((0, 1),  (9, 0))\n",
    "second_interval = Interval((9, 1), (18, 0))\n",
    "third_interval = Interval((18, 1), (24, 0))\n",
    "\n",
    "intervals = [first_interval, second_interval, third_interval]"
   ]
  },
  {
   "cell_type": "code",
   "execution_count": 7,
   "id": "c88c7615",
   "metadata": {},
   "outputs": [],
   "source": [
    "from enum import Enum\n",
    "\n",
    "class DefaultTagEnum(Enum):\n",
    "    WeekDay = 0\n",
    "    Weekend = 1"
   ]
  },
  {
   "cell_type": "code",
   "execution_count": 8,
   "id": "f3c6e68a",
   "metadata": {},
   "outputs": [],
   "source": [
    "payment_configuration= {\n",
    "    DefaultTagEnum.WeekDay : {\n",
    "        first_interval : 25,\n",
    "        second_interval : 15,\n",
    "        third_interval : 20\n",
    "    }, \n",
    "    \n",
    "    DefaultTagEnum.Weekend: {\n",
    "        first_interval : 30,\n",
    "        second_interval : 20,\n",
    "        third_interval : 25\n",
    "    }\n",
    "}"
   ]
  },
  {
   "cell_type": "code",
   "execution_count": 9,
   "id": "8877e55f",
   "metadata": {},
   "outputs": [],
   "source": [
    "RE_PATTERN =\"(\\w{2})(\\d{2}:\\d{2})-(\\d{2}:\\d{2})\"\n",
    "def parse_times(current_input : str) -> Tuple[str, Hour, Hour]:\n",
    "    for data in re.findall(RE_PATTERN, EXAMPLE_INPUT):\n",
    "        day, start, end = data\n",
    "        \n",
    "        start_hour, start_minute = start.split(':')\n",
    "        start_hour, start_minute = int(start_hour), int(start_minute)\n",
    "    \n",
    "        end_hour, end_minute = end.split(':')\n",
    "        end_hour, end_minute = int(end_hour), int(end_minute)\n",
    "        \n",
    "        yield (day, (start_hour, start_minute), (end_hour, end_minute))\n",
    "        \n",
    "    "
   ]
  },
  {
   "cell_type": "code",
   "execution_count": 10,
   "id": "60a07e21",
   "metadata": {},
   "outputs": [
    {
     "data": {
      "text/plain": [
       "85.0"
      ]
     },
     "execution_count": 10,
     "metadata": {},
     "output_type": "execute_result"
    }
   ],
   "source": [
    "def get_total_earned_on_day(input_str: str):\n",
    "    total_earned = 0\n",
    "    for day, start_time, end_time in parse_times(input_str):\n",
    "        period_worked_hours = end_time[0] - start_time[0] + (end_time[1] - start_time[1])/60\n",
    "\n",
    "        matched_intervals = [interval for interval in intervals if interval.in_interval(start_time, end_time)]\n",
    "\n",
    "        assert(len(matched_intervals) == 1)\n",
    "\n",
    "        matched_interval = matched_intervals[0]\n",
    "\n",
    "        if(re.match('MO|TU|WE|TH|FR', day)):\n",
    "            total_earned += payment_configuration[DefaultTagEnum.WeekDay][matched_interval] * period_worked_hours\n",
    "\n",
    "        elif (re.match('SA|SU', day)):\n",
    "            total_earned += payment_configuration[DefaultTagEnum.Weekend][matched_interval] * period_worked_hours\n",
    "\n",
    "        else:\n",
    "            raise ValueError(\"Day does not exist\")\n",
    "            \n",
    "    return total_earned\n",
    "    \n",
    "get_total_earned_on_day(EXAMPLE_INPUT)"
   ]
  },
  {
   "cell_type": "markdown",
   "id": "31ec77ce",
   "metadata": {},
   "source": [
    "total_earned = 0\n",
    "for data in re.findall(\"(\\w{2})(\\d{2}:\\d{2})-(\\d{2}:\\d{2})\", EXAMPLE_INPUT):\n",
    "    day, start, end = data\n",
    "    start_hour, start_minute = start.split(':')\n",
    "    start_hour, start_minute = int(start_hour), int(start_minute)\n",
    "    \n",
    "    \n",
    "    end_hour, end_minute = end.split(':')\n",
    "    end_hour, end_minute = int(end_hour), int(end_minute)\n",
    "    if(end_hour == 0):\n",
    "        end_hour = 24\n",
    "    \n",
    "    period_worked_hours = end_hour - start_hour\n",
    "    \n",
    "    \n",
    "    matched_interval = [i for i in  intervals if i.in_interval( \n",
    "            (start_hour, start_minute), (end_hour, end_minute)\n",
    "    )]\n",
    "    \n",
    "    assert(len(matched_interval) == 1)\n",
    "    \n",
    "    matched_interval = matched_interval[0]\n",
    "    \n",
    "    \n",
    "    if(re.match('MO|TU|WE|TH|FR', day)):\n",
    "        total_earned += payment_configuration[DefaultTagEnum.WeekDay][matched_interval] * period_worked_hours\n",
    "        \n",
    "    elif (re.match('SA|SU', day)):\n",
    "        total_earned += payment_configuration[DefaultTagEnum.Weekend][matched_interval] * period_worked_hours\n",
    "        \n",
    "    else:\n",
    "        print(\"_______ERRROR______\")\n",
    "    \n",
    "    print(data)\n",
    "    print(third_interval.in_interval((start_hour, start_minute), (end_hour, end_minute)))"
   ]
  },
  {
   "cell_type": "markdown",
   "id": "b842422b",
   "metadata": {
    "scrolled": false
   },
   "source": [
    "total_earned"
   ]
  },
  {
   "cell_type": "markdown",
   "id": "97f57681",
   "metadata": {},
   "source": [
    "time(0, 0) == time(0,0)"
   ]
  },
  {
   "cell_type": "code",
   "execution_count": 11,
   "id": "69602fb9",
   "metadata": {},
   "outputs": [],
   "source": [
    "from DataStructures.DefaultTagEnum import DefaultTagEnum\n",
    "from DataStructures.Interval import Interval\n",
    "\n",
    "class ConfigManager:\n",
    "    default_tag_price : dict[DefaultTagEnum, dict[Interval, int]] =None\n",
    "        # DefaultTagEnum.WeekDay : [25,15,20],\n",
    "        # DefaultTagEnum.Weekend : [30, 20, 25]\n",
    "    # }\n",
    "\n",
    "    intervals = []\n",
    "\n",
    "\n",
    "    custom_tag_price : dict[str, dict[Interval, int]] = {}\n",
    "\n",
    "    @staticmethod\n",
    "    def register_tag_price(tag : str,prices_by_interval: dict[Interval, int]):\n",
    "        ConfigManager.custom_tag_price[tag] = prices_by_interval\n",
    "\n",
    "    @staticmethod\n",
    "    def register_interval(interval : Interval):\n",
    "        if(ConfigManager.default_tag_price is not None): raise ValueError(\"You can't register any more intervals as the configuration already began\")\n",
    "        if(interval in ConfigManager.intervals): raise ValueError(\"Interval is already registered\")\n",
    "\n",
    "        overrided_intervals = [i for i in ConfigManager.intervals if i.in_interval(interval.initial_time, interval.initial_time) or i.in_interval(interval.final_time, interval.final_time)]\n",
    "        \n",
    "        if(len(overrided_intervals) > 0):\n",
    "            print(overrided_intervals)\n",
    "            raise ValueError(\"Interval is overriding one already registered\")\n",
    "        ConfigManager.intervals.append(interval)\n",
    "        \n",
    "\n",
    "    @staticmethod\n",
    "    def register_configuration(config : dict[DefaultTagEnum, dict[Interval, int]]):\n",
    "        for tag in config:\n",
    "            configured_intervals = [*config[tag].keys()]\n",
    "            \n",
    "        assert(set(configured_intervals) == set(ConfigManager.intervals))\n",
    "                \n",
    "\n",
    "\n"
   ]
  },
  {
   "cell_type": "code",
   "execution_count": 12,
   "id": "fa9bd46d",
   "metadata": {},
   "outputs": [
    {
     "name": "stdout",
     "output_type": "stream",
     "text": [
      "[]\n"
     ]
    }
   ],
   "source": [
    "ConfigManager.intervals = []\n",
    "print(ConfigManager.intervals)"
   ]
  },
  {
   "cell_type": "code",
   "execution_count": 13,
   "id": "fd78550a",
   "metadata": {
    "scrolled": true
   },
   "outputs": [],
   "source": [
    "ConfigManager.register_interval(first_interval)"
   ]
  },
  {
   "cell_type": "code",
   "execution_count": 14,
   "id": "e1769775",
   "metadata": {},
   "outputs": [],
   "source": [
    "ConfigManager.register_interval(second_interval)"
   ]
  },
  {
   "cell_type": "code",
   "execution_count": 15,
   "id": "d8979247",
   "metadata": {},
   "outputs": [],
   "source": [
    "ConfigManager.register_interval(third_interval)"
   ]
  },
  {
   "cell_type": "code",
   "execution_count": 16,
   "id": "4da9b3f7",
   "metadata": {},
   "outputs": [
    {
     "data": {
      "text/plain": [
       "[<__main__.Interval at 0x7fee044d26d0>,\n",
       " <__main__.Interval at 0x7fee044d2a00>,\n",
       " <__main__.Interval at 0x7fee044d24c0>]"
      ]
     },
     "execution_count": 16,
     "metadata": {},
     "output_type": "execute_result"
    }
   ],
   "source": [
    "ConfigManager.intervals"
   ]
  },
  {
   "cell_type": "code",
   "execution_count": 17,
   "id": "4aa82adb",
   "metadata": {},
   "outputs": [],
   "source": [
    "ConfigManager.register_configuration(\n",
    "    {DefaultTagEnum.WeekDay : {\n",
    "        first_interval:2,\n",
    "        second_interval: 3,\n",
    "        third_interval: 4\n",
    "    }\n",
    "     })"
   ]
  },
  {
   "cell_type": "code",
   "execution_count": null,
   "id": "2c726733",
   "metadata": {},
   "outputs": [],
   "source": []
  },
  {
   "cell_type": "code",
   "execution_count": null,
   "id": "8d077d50",
   "metadata": {},
   "outputs": [],
   "source": []
  },
  {
   "cell_type": "markdown",
   "id": "9e16bef3",
   "metadata": {},
   "source": [
    "# Dependency injection"
   ]
  },
  {
   "cell_type": "code",
   "execution_count": 18,
   "id": "223b6e23",
   "metadata": {},
   "outputs": [],
   "source": [
    "from inspect import signature\n",
    "from inspect import _empty"
   ]
  },
  {
   "cell_type": "code",
   "execution_count": null,
   "id": "74d52d3c",
   "metadata": {},
   "outputs": [],
   "source": []
  },
  {
   "cell_type": "code",
   "execution_count": 70,
   "id": "aeb944bf",
   "metadata": {},
   "outputs": [],
   "source": [
    "class IMyClass:\n",
    "    pass\n",
    "\n",
    "class MyClassDependency (IMyClass):\n",
    "    def __init__(self ):\n",
    "        pass\n",
    "\n",
    "class IClassDependency:\n",
    "    pass\n",
    "\n",
    "class ClassToDependencyInject (IMyClass):\n",
    "    def __init__(self, MyClassDependency : MyClassDependency, my_number : int = 2):\n",
    "        self.my_class_dependency = MyClassDependency"
   ]
  },
  {
   "cell_type": "code",
   "execution_count": 71,
   "id": "c136a834",
   "metadata": {},
   "outputs": [],
   "source": [
    "def get_dependencies_of_classes( *args):\n",
    "    dependency_mapping = {}\n",
    "    for class_to_instantiate in args:\n",
    "        s = signature(class_to_instantiate.__init__)\n",
    "        dependency_mapping[class_to_instantiate] = []\n",
    "        for p in s.parameters:    \n",
    "            if(p == 'self'): continue\n",
    "            annotation = s.parameters[p].annotation\n",
    "            if(annotation is not _empty):\n",
    "                dependency_mapping[class_to_instantiate].append(annotation)\n",
    "            \n",
    "    return dependency_mapping\n",
    "\n"
   ]
  },
  {
   "cell_type": "code",
   "execution_count": 72,
   "id": "8d7b1e57",
   "metadata": {},
   "outputs": [
    {
     "data": {
      "text/plain": [
       "{__main__.MyClassDependency: [],\n",
       " __main__.ClassToDependencyInject: [__main__.MyClassDependency, int]}"
      ]
     },
     "execution_count": 72,
     "metadata": {},
     "output_type": "execute_result"
    }
   ],
   "source": [
    "get_dependencies_of_classes(MyClassDependency, ClassToDependencyInject)"
   ]
  },
  {
   "cell_type": "code",
   "execution_count": 97,
   "id": "2e9c4266",
   "metadata": {},
   "outputs": [],
   "source": [
    "class DependencyInjectionContainer:\n",
    "    '''\n",
    "        This is a simple implementation of the dependency injection pattern. It's not very robust as it is not necessary for the project.\n",
    "        Usually would be better to do it with a whole graph library and search for loops but I'm keeping it simple.\n",
    "    '''\n",
    "    DependencyInjectedClass = any\n",
    "    def __init__(self, *args : DependencyInjectedClass):\n",
    "        self.dependency_injected_classes : list = [*args] #convert tuple to list\n",
    "        self.get_dependencies_of_classes()\n",
    "        self.__check_for_missing_dep()\n",
    "        self.__check_for_loops()\n",
    "        self.instances = {}\n",
    "\n",
    "        self.__instantiate_classes()\n",
    "\n",
    "    def __check_for_missing_dep(self):\n",
    "        all_dependencies = []\n",
    "        for class_to_inject in self.dependency_mapping:\n",
    "            all_dependencies += self.dependency_mapping[class_to_inject]\n",
    "\n",
    "        if not set(all_dependencies).issubset(self.dependency_mapping.keys()):\n",
    "\n",
    "\n",
    "            all_dep_set = set(all_dependencies)\n",
    "            dependency_map_set = set([*self.dependency_mapping.keys()])\n",
    "\n",
    "            raise ValueError(\"Some dependencies are not inside the container\")\n",
    "\n",
    "    def __check_for_loops(self):\n",
    "\n",
    "        #This function is extremly unoptimized but it'll do for now. \n",
    "        #If I have time I'll change it for better one.\n",
    "        for class_to_inject in self.dependency_mapping:\n",
    "            for dependency in self.dependency_mapping[class_to_inject]:\n",
    "                if class_to_inject in self.dependency_mapping[dependency]:\n",
    "                    raise ValueError(\"There is a loop in your dependencies\")\n",
    "\n",
    "    def __instantiate_classes(self):\n",
    "        while len(self.dependency_injected_classes) != 0:    \n",
    "            for classe_to_inject in self.dependency_injected_classes:\n",
    "                if(len(self.dependency_mapping[classe_to_inject]) == 0):\n",
    "                    self.instances[classe_to_inject] = classe_to_inject()\n",
    "                    print(f\"Instantiating {classe_to_inject}\")\n",
    "                    self.dependency_injected_classes.remove(classe_to_inject)\n",
    "\n",
    "                elif(set(self.dependency_mapping[classe_to_inject]).issubset(self.instances.keys())):\n",
    "                    dependency_instances_list = [self.instances[c] for c in self.dependency_mapping[classe_to_inject]]\n",
    "                    print(f\"Instantiating {classe_to_inject}\")\n",
    "                    self.instances[classe_to_inject] = classe_to_inject(*dependency_instances_list)\n",
    "                    self.dependency_injected_classes.remove(classe_to_inject)\n",
    "\n",
    "        \n",
    "\n",
    "    def get_dependencies_of_classes(self):\n",
    "        self.dependency_mapping = {}\n",
    "        for class_to_instantiate in self.dependency_injected_classes:\n",
    "            s = signature(class_to_instantiate.__init__)\n",
    "            self.dependency_mapping[class_to_instantiate] = []\n",
    "            for parameter_name in s.parameters:    \n",
    "                if(parameter_name == 'self'): continue\n",
    "                parameter = s.parameters[parameter_name]\n",
    "                if(parameter.default is not _empty): break\n",
    "                annotation = parameter.annotation\n",
    "                if(annotation is not _empty):\n",
    "                    self.dependency_mapping[class_to_instantiate].append(annotation)\n",
    "                else:\n",
    "                    raise ValueError(\"You can't do dependency injection without type annotation on non defaulted values\")\n",
    "    \n",
    "    def __pascal_to_snake(self, str_to_convert : str):\n",
    "        #retirar isso daqui depois\n",
    "        return re.sub(\"([A-Z])\", \n",
    "                lambda match: '_' + match.group(1).lower(), \n",
    "                str_to_convert)[1:]\n",
    "\n",
    "    def __enter__(self, *args):\n",
    "        for class_name in self.instances:\n",
    "            print(class_name.__name__)\n",
    "\n",
    "            globals()[self.__pascal_to_snake(class_name.__name__)] = self.instances[class_name]\n",
    "    \n",
    "    def __exit__(self, *args):\n",
    "        for class_name in self.instances:\n",
    "\n",
    "            del globals()[self.__pascal_to_snake(class_name.__name__)]\n",
    "    \n"
   ]
  },
  {
   "cell_type": "code",
   "execution_count": 98,
   "id": "c604c25f",
   "metadata": {},
   "outputs": [
    {
     "name": "stdout",
     "output_type": "stream",
     "text": [
      "Instantiating <class '__main__.MyClassDependency'>\n",
      "Instantiating <class '__main__.ClassToDependencyInject'>\n"
     ]
    }
   ],
   "source": [
    "D = DependencyInjectionContainer(MyClassDependency,  ClassToDependencyInject)"
   ]
  },
  {
   "cell_type": "code",
   "execution_count": 99,
   "id": "3d32ac4b",
   "metadata": {},
   "outputs": [
    {
     "name": "stdout",
     "output_type": "stream",
     "text": [
      "MyClassDependency\n",
      "ClassToDependencyInject\n",
      "True\n"
     ]
    }
   ],
   "source": [
    "with D: \n",
    "    print(class_to_dependency_inject.my_class_dependency is my_class_dependency)"
   ]
  },
  {
   "cell_type": "markdown",
   "id": "76efb3ec",
   "metadata": {},
   "source": [
    "# Implementing intefaces"
   ]
  },
  {
   "cell_type": "code",
   "execution_count": 144,
   "id": "7d6ef594",
   "metadata": {},
   "outputs": [],
   "source": [
    "class IMyClass:\n",
    "    pass\n",
    "\n",
    "class Printable:\n",
    "    def print(self):\n",
    "        print(\"Hello World\")\n",
    "\n",
    "class MyClassDependency (IMyClass, Printable):\n",
    "    def __init__(self ):\n",
    "        pass\n",
    "\n",
    "class IClassDependency:\n",
    "    pass\n",
    "\n",
    "class ClassToDependencyInject:\n",
    "    def __init__(self, MyClassDependency : IMyClass):\n",
    "        self.my_class_dependency = MyClassDependency"
   ]
  },
  {
   "cell_type": "code",
   "execution_count": 145,
   "id": "5a5a6900",
   "metadata": {},
   "outputs": [],
   "source": [
    "from inspect import getmro"
   ]
  },
  {
   "cell_type": "code",
   "execution_count": 146,
   "id": "bc7a7552",
   "metadata": {},
   "outputs": [
    {
     "data": {
      "text/plain": [
       "(__main__.ClassToDependencyInject, object)"
      ]
     },
     "execution_count": 146,
     "metadata": {},
     "output_type": "execute_result"
    }
   ],
   "source": [
    "getmro(ClassToDependencyInject)"
   ]
  },
  {
   "cell_type": "code",
   "execution_count": 147,
   "id": "453defbb",
   "metadata": {},
   "outputs": [],
   "source": [
    "class DependencyInjectionContainer:\n",
    "    '''\n",
    "        This is a simple implementation of the dependency injection pattern. It's not very robust as it is not necessary for the project.\n",
    "        Usually would be better to do it with a whole graph library and search for loops but I'm keeping it simple.\n",
    "    '''\n",
    "    DependencyInjectedClass = any\n",
    "    def __init__(self, *args : DependencyInjectedClass):\n",
    "        self.dependency_injected_classes : list = [*args] #convert tuple to list\n",
    "        self.interface_class_mapping = {}\n",
    "        self.get_dependencies_of_classes()\n",
    "        self.__check_for_missing_dep()\n",
    "        self.__check_for_loops()\n",
    "        self.instances = {}\n",
    "\n",
    "        self.__instantiate_classes()\n",
    "\n",
    "    def __check_for_missing_dep(self):\n",
    "        all_dependencies = []\n",
    "        for class_to_inject in self.dependency_mapping:\n",
    "            all_dependencies += self.dependency_mapping[class_to_inject]\n",
    "\n",
    "        if not set(all_dependencies).issubset(self.interface_class_mapping.keys()):\n",
    "            raise ValueError(\"Some dependencies are not inside the container\")\n",
    "\n",
    "    def __check_for_loops(self):\n",
    "\n",
    "        #This function is extremly unoptimized but it'll do for now. \n",
    "        #If I have time I'll change it for better one.\n",
    "        for interface_to_inject in self.interface_class_mapping:\n",
    "            class_to_inject = self.interface_class_mapping[interface_to_inject]\n",
    "            for dependency in self.dependency_mapping[class_to_inject]:\n",
    "                if class_to_inject in self.dependency_mapping[self.interface_class_mapping[dependency]]:\n",
    "                    raise ValueError(\"There is a loop in your dependencies\")\n",
    "\n",
    "    def __instantiate_classes(self):\n",
    "        while len(self.dependency_injected_classes) != 0:    \n",
    "            for interface_to_inject in self.interface_class_mapping:\n",
    "                classe_to_inject = self.interface_class_mapping[interface_to_inject]\n",
    "\n",
    "                if(len(self.dependency_mapping[classe_to_inject]) == 0):\n",
    "                    self.instances[interface_to_inject] = classe_to_inject()\n",
    "                    print(f\"Instantiating {classe_to_inject}\")\n",
    "                    self.dependency_injected_classes.remove(classe_to_inject)\n",
    "\n",
    "                elif(set(self.dependency_mapping[classe_to_inject]).issubset(self.instances.keys())):\n",
    "                    dependency_instances_list = [self.instances[c] for c in self.dependency_mapping[classe_to_inject]]\n",
    "                    print(f\"Instantiating {classe_to_inject}\")\n",
    "                    self.instances[interface_to_inject] = classe_to_inject(*dependency_instances_list)\n",
    "                    self.dependency_injected_classes.remove(classe_to_inject)\n",
    "\n",
    "        \n",
    "\n",
    "    def get_dependencies_of_classes(self):\n",
    "        self.dependency_mapping = {}\n",
    "        for class_to_instantiate in self.dependency_injected_classes:\n",
    "            self.__extract_interface_mapping(class_to_instantiate)\n",
    "\n",
    "            s = signature(class_to_instantiate.__init__)\n",
    "            self.dependency_mapping[class_to_instantiate] = []\n",
    "            for parameter_name in s.parameters:    \n",
    "                if(parameter_name == 'self'): continue\n",
    "                parameter = s.parameters[parameter_name]\n",
    "                if(parameter.default is not _empty): break\n",
    "                annotation = parameter.annotation\n",
    "                if(annotation is not _empty):\n",
    "                    self.dependency_mapping[class_to_instantiate].append(annotation)\n",
    "                else:\n",
    "                    raise ValueError(\"You can't do dependency injection without type annotation on non defaulted parameters\")\n",
    "                    \n",
    "    def __extract_interface_mapping(self, class_to_instantiate):\n",
    "        implemented_interfaces = getmro(class_to_instantiate)\n",
    "        if(len(implemented_interfaces) > 1):\n",
    "            implemented_interface = implemented_interfaces[1] \n",
    "            if(implemented_interface.__name__[0] == 'I'): # this is because object can appear here.\n",
    "                self.interface_class_mapping[implemented_interfaces[1]] = class_to_instantiate\n",
    "            else:\n",
    "                self.interface_class_mapping[class_to_instantiate] = class_to_instantiate\n",
    "\n",
    "        else:\n",
    "            self.interface_class_mapping[class_to_instantiate] = class_to_instantiate\n",
    "\n",
    "    def __pascal_to_snake(self, str_to_convert : str):\n",
    "        #retirar isso daqui depois\n",
    "        return re.sub(\"([A-Z])\", \n",
    "                lambda match: '_' + match.group(1).lower(), \n",
    "                str_to_convert)[1:]\n",
    "\n",
    "    def __enter__(self, *args):\n",
    "        for class_name in self.instances:\n",
    "            print(class_name.__name__)\n",
    "\n",
    "            globals()[self.__pascal_to_snake(class_name.__name__)] = self.instances[class_name]\n",
    "    \n",
    "    def __exit__(self, *args):\n",
    "        for class_name in self.instances:\n",
    "\n",
    "            del globals()[self.__pascal_to_snake(class_name.__name__)]\n",
    "    \n"
   ]
  },
  {
   "cell_type": "markdown",
   "id": "aef2e48e",
   "metadata": {},
   "source": []
  },
  {
   "cell_type": "code",
   "execution_count": 151,
   "id": "6937b525",
   "metadata": {},
   "outputs": [
    {
     "name": "stdout",
     "output_type": "stream",
     "text": [
      "Instantiating <class '__main__.MyClassDependency'>\n",
      "Instantiating <class '__main__.ClassToDependencyInject'>\n",
      "IMyClass\n",
      "ClassToDependencyInject\n",
      "Hello World\n"
     ]
    }
   ],
   "source": [
    "D = DependencyInjectionContainer(MyClassDependency, ClassToDependencyInject)\n",
    "\n",
    "with D: \n",
    "    i_my_class.print()\n",
    "    #print(class_to_dependency_inject.my_class_dependency is my_class_dependency)"
   ]
  },
  {
   "cell_type": "code",
   "execution_count": null,
   "id": "3d2f78d8",
   "metadata": {},
   "outputs": [],
   "source": []
  }
 ],
 "metadata": {
  "kernelspec": {
   "display_name": "Python 3 (ipykernel)",
   "language": "python",
   "name": "python3"
  },
  "language_info": {
   "codemirror_mode": {
    "name": "ipython",
    "version": 3
   },
   "file_extension": ".py",
   "mimetype": "text/x-python",
   "name": "python",
   "nbconvert_exporter": "python",
   "pygments_lexer": "ipython3",
   "version": "3.9.7"
  }
 },
 "nbformat": 4,
 "nbformat_minor": 5
}
